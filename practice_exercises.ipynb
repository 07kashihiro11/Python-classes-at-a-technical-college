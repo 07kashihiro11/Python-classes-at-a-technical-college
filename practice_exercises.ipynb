{
 "cells": [
  {
   "cell_type": "markdown",
   "metadata": {},
   "source": [
    "### 問題1\n",
    "リスト `numbers = [1, 2, 3, 4, 5]` の全ての要素を2倍にしてください。\n",
    "\n",
    "<実行結果><br>[2, 4, 6, 8, 10]"
   ]
  },
  {
   "cell_type": "code",
   "execution_count": 2,
   "metadata": {},
   "outputs": [
    {
     "name": "stdout",
     "output_type": "stream",
     "text": [
      "[2, 4, 6, 8, 10]\n",
      "2\n",
      "4\n",
      "6\n",
      "8\n",
      "10\n"
     ]
    }
   ],
   "source": [
    "numbers = [1, 2, 3, 4, 5]\n",
    "newlist = [n * 2 for n in numbers]\n",
    "print(newlist)\n",
    "\n",
    "for number in numbers:\n",
    "    print(number*2)\n"
   ]
  },
  {
   "cell_type": "markdown",
   "metadata": {},
   "source": [
    "### 問題2\n",
    "リスト fruits = ['apple', 'banana', 'cherry'] に 'orange' を追加してください。\n",
    "\n",
    "<実行結果><br>['apple', 'banana', 'cherry', 'orange']"
   ]
  },
  {
   "cell_type": "code",
   "execution_count": 3,
   "metadata": {},
   "outputs": [
    {
     "name": "stdout",
     "output_type": "stream",
     "text": [
      "['apple', 'banana', 'cherry', 'orange']\n"
     ]
    }
   ],
   "source": [
    "fruits = ['apple', 'banana', 'cherry']\n",
    "fruits.append('orange')\n",
    "print(fruits)"
   ]
  },
  {
   "cell_type": "markdown",
   "metadata": {},
   "source": [
    "### 問題3\n",
    "リスト numbers = [1, 2, 3, 4, 5] の3番目の要素「３」を取得してください。\n",
    "\n",
    "<実行結果><br>3"
   ]
  },
  {
   "cell_type": "code",
   "execution_count": 4,
   "metadata": {},
   "outputs": [
    {
     "name": "stdout",
     "output_type": "stream",
     "text": [
      "3\n"
     ]
    }
   ],
   "source": [
    "numbers = [1,2,3,4,5]\n",
    "print(numbers.index(4))"
   ]
  },
  {
   "cell_type": "markdown",
   "metadata": {},
   "source": [
    "### 問題4\n",
    "リスト numbers = [1, 2, 3, 4, 5] の最後の要素を削除してください。\n",
    "\n",
    "<実行結果><br>[1, 2, 3, 4]"
   ]
  },
  {
   "cell_type": "code",
   "execution_count": 5,
   "metadata": {},
   "outputs": [
    {
     "name": "stdout",
     "output_type": "stream",
     "text": [
      "[1, 2, 3, 4]\n"
     ]
    }
   ],
   "source": [
    "numbers = [1,2,3,4,5]\n",
    "numbers.pop()\n",
    "print (numbers)"
   ]
  },
  {
   "cell_type": "markdown",
   "metadata": {},
   "source": [
    "### 問題5\n",
    "リスト numbers = [1, 2, 3, 4, 5] を逆順にしてください。\n",
    "\n",
    "<実行結果><br>[5, 4, 3, 2, 1]"
   ]
  },
  {
   "cell_type": "code",
   "execution_count": 6,
   "metadata": {},
   "outputs": [
    {
     "name": "stdout",
     "output_type": "stream",
     "text": [
      "[5, 4, 3, 2, 1]\n"
     ]
    }
   ],
   "source": [
    "numbers = [1,2,3,4,5]\n",
    "numbers.reverse()\n",
    "print(numbers)"
   ]
  },
  {
   "cell_type": "markdown",
   "metadata": {},
   "source": [
    "### 問題6\n",
    "リスト numbers = [1, 2, 3, 4, 5] の偶数の要素だけを含む新しいリストを作成してください。\n",
    "\n",
    "<実行結果><br>[2, 4]"
   ]
  },
  {
   "cell_type": "code",
   "execution_count": 7,
   "metadata": {},
   "outputs": [
    {
     "name": "stdout",
     "output_type": "stream",
     "text": [
      "[2, 4]\n"
     ]
    }
   ],
   "source": [
    "numbers = [1,2,3,4,5]\n",
    "even_numbers = [num for num in numbers if num % 2 == 0]\n",
    "print(even_numbers)"
   ]
  },
  {
   "cell_type": "markdown",
   "metadata": {},
   "source": [
    "### 問題7\n",
    "2つのリスト list1 = [1, 2, 3] と list2 = [4, 5, 6] を結合してください。\n",
    "\n",
    "<実行結果><br>[1, 2, 3, 4, 5, 6]"
   ]
  },
  {
   "cell_type": "code",
   "execution_count": 8,
   "metadata": {},
   "outputs": [
    {
     "name": "stdout",
     "output_type": "stream",
     "text": [
      "[1, 2, 3, 4, 5, 6]\n"
     ]
    }
   ],
   "source": [
    "list1 = [1,2,3]\n",
    "list2 = [4,5,6]\n",
    "result = list1 + list2\n",
    "print(result)"
   ]
  },
  {
   "cell_type": "markdown",
   "metadata": {},
   "source": [
    "### 問題8\n",
    "リスト numbers = [1, 2, 2, 3, 4, 4, 5] から重複を削除してください。\n",
    "\n",
    "<実行結果><br>[1, 2, 3, 4, 5]"
   ]
  },
  {
   "cell_type": "code",
   "execution_count": 9,
   "metadata": {},
   "outputs": [
    {
     "name": "stdout",
     "output_type": "stream",
     "text": [
      "{1, 2, 3, 4, 5}\n"
     ]
    }
   ],
   "source": [
    "numbers = [1,2,2,3,4,4,5]\n",
    "n_numbers = set(numbers)\n",
    "print(n_numbers)"
   ]
  },
  {
   "cell_type": "markdown",
   "metadata": {},
   "source": [
    "### 問題9\n",
    "リスト numbers = [1, 2, 3, 4, 5] の要素の合計を計算してください。\n",
    "\n",
    "<実行結果><br>15"
   ]
  },
  {
   "cell_type": "code",
   "execution_count": 10,
   "metadata": {},
   "outputs": [
    {
     "name": "stdout",
     "output_type": "stream",
     "text": [
      "15\n"
     ]
    }
   ],
   "source": [
    "numbers = [1,2,3,4,5]\n",
    "print(sum(numbers))"
   ]
  },
  {
   "cell_type": "markdown",
   "metadata": {},
   "source": [
    "### 問題10\n",
    "リスト numbers = [1, 2, 3, 4, 5] の最大値を見つけてください。\n",
    "\n",
    "<実行結果><br>5"
   ]
  },
  {
   "cell_type": "code",
   "execution_count": 11,
   "metadata": {},
   "outputs": [
    {
     "name": "stdout",
     "output_type": "stream",
     "text": [
      "5\n"
     ]
    }
   ],
   "source": [
    "numbers = [1,2,3,4,5]\n",
    "print(max(numbers))"
   ]
  },
  {
   "cell_type": "markdown",
   "metadata": {},
   "source": [
    "### 問題11\n",
    "リスト numbers = [5, 2, 8, 1, 9] を昇順にソートしてください\n",
    "\n",
    "<実行結果><br>[1, 2, 5, 8, 9]"
   ]
  },
  {
   "cell_type": "code",
   "execution_count": 12,
   "metadata": {},
   "outputs": [
    {
     "name": "stdout",
     "output_type": "stream",
     "text": [
      "[1, 2, 5, 8, 9]\n"
     ]
    }
   ],
   "source": [
    "numbers = [5,2,8,1,9]\n",
    "numbers.sort()\n",
    "print(numbers)"
   ]
  },
  {
   "cell_type": "markdown",
   "metadata": {},
   "source": [
    "### 問題12\n",
    "リスト words = ['apple', 'banana', 'cherry'] の各要素の長さを要素とする新しいリストを作成してください。\n",
    "\n",
    "<実行結果><br>[5, 6, 6]"
   ]
  },
  {
   "cell_type": "code",
   "execution_count": 13,
   "metadata": {},
   "outputs": [
    {
     "name": "stdout",
     "output_type": "stream",
     "text": [
      "[5, 6, 6]\n",
      "[5, 6, 6]\n"
     ]
    }
   ],
   "source": [
    "words = ['apple', 'banana', 'cherry']\n",
    "length = [len(word) for word in words]\n",
    "print(length)\n",
    "\n",
    "lengths = []\n",
    "\n",
    "for word in words:\n",
    "    lengths.append(len(word))\n",
    "\n",
    "print(lengths)"
   ]
  },
  {
   "cell_type": "markdown",
   "metadata": {},
   "source": [
    "### 問題13\n",
    "リスト numbers = [1, 2, 3, 4, 5] の要素を2倍にした新しいリストを作成してください。ただし、リスト内包表記を使用してください。\n",
    "\n",
    "<実行結果><br>[2, 4, 6, 8, 10]"
   ]
  },
  {
   "cell_type": "code",
   "execution_count": 14,
   "metadata": {},
   "outputs": [
    {
     "name": "stdout",
     "output_type": "stream",
     "text": [
      "[2, 4, 6, 8, 10]\n",
      "[2, 4, 6, 8, 10]\n"
     ]
    }
   ],
   "source": [
    "numbers = [1,2,3,4,5]\n",
    "newlist = [n*2 for n in numbers]\n",
    "print(newlist)\n",
    "\n",
    "double_numbers = [num * 2 for num in numbers]\n",
    "print(double_numbers)"
   ]
  },
  {
   "cell_type": "markdown",
   "metadata": {},
   "source": [
    "### 問題14\n",
    "リスト numbers = [1, 2, 3, 4, 5] の各要素を文字列に変換してください\n",
    "\n",
    "<実行結果><br>['1', '2', '3', '4', '5']"
   ]
  },
  {
   "cell_type": "code",
   "execution_count": 15,
   "metadata": {},
   "outputs": [
    {
     "name": "stdout",
     "output_type": "stream",
     "text": [
      "['1', '2', '3', '4', '5']\n",
      "['1', '2', '3', '4', '5']\n"
     ]
    }
   ],
   "source": [
    "numbers = [1,2,3,4,5]\n",
    "str_numbers = [str(i) for i in numbers]\n",
    "print(str_numbers)\n",
    "\n",
    "str_numbers = [str(number) for number in numbers]\n",
    "print(str_numbers)"
   ]
  },
  {
   "cell_type": "markdown",
   "metadata": {},
   "source": [
    "### 問題15\n",
    "リスト numbers = [1, 2, 3, 4, 5] の要素を3で割った余りを要素とする新しいリストを作成してください。\n",
    "\n",
    "<実行結果><br>[1, 2, 0, 1, 2]"
   ]
  },
  {
   "cell_type": "code",
   "execution_count": 16,
   "metadata": {},
   "outputs": [
    {
     "name": "stdout",
     "output_type": "stream",
     "text": [
      "[1, 2, 0, 1, 2]\n",
      "[1, 2, 0, 1, 2]\n"
     ]
    }
   ],
   "source": [
    "numbers = [1,2,3,4,5]\n",
    "new_numbers = [n%3 for n in numbers]\n",
    "print(new_numbers)\n",
    "\n",
    "\n",
    "\n",
    "third_numbers =[]\n",
    "\n",
    "for num in numbers:\n",
    "    third_numbers.append(num % 3)\n",
    "    \n",
    "print(third_numbers)"
   ]
  },
  {
   "cell_type": "markdown",
   "metadata": {},
   "source": [
    "### 問題16\n",
    "タプル coordinates = (3, 4) の「３」をxに、「４」をyに代入してください。（アンパッキングですると１行でかけます。）\n",
    "\n",
    "<実行結果><br>print(f\"x: {x}, y: {y}\")とした場合、<br>x: 3, y: 4"
   ]
  },
  {
   "cell_type": "code",
   "execution_count": 17,
   "metadata": {},
   "outputs": [
    {
     "name": "stdout",
     "output_type": "stream",
     "text": [
      "3 4\n"
     ]
    }
   ],
   "source": [
    "coordinates =(3,4)\n",
    "x, y = coordinates\n",
    "print(x,y)"
   ]
  },
  {
   "cell_type": "markdown",
   "metadata": {},
   "source": [
    "### 問題17\n",
    "2つのタプル tuple1 = (1, 2, 3) と tuple2 = (4, 5, 6) を結合してください。\n",
    "\n",
    "<実行結果><br>(1, 2, 3, 4, 5, 6)"
   ]
  },
  {
   "cell_type": "code",
   "execution_count": 18,
   "metadata": {},
   "outputs": [
    {
     "name": "stdout",
     "output_type": "stream",
     "text": [
      "(1, 2, 3, 4, 5, 6)\n"
     ]
    }
   ],
   "source": [
    "tuple1 = (1,2,3)\n",
    "tuple2 = (4,5,6)\n",
    "tuple3 = tuple1 + tuple2 \n",
    "print(tuple3)"
   ]
  },
  {
   "cell_type": "markdown",
   "metadata": {},
   "source": [
    "### 問題18\n",
    "タプル numbers = (1, 2, 3, 4, 5) の3番目の要素（３）を取得してください。\n",
    "\n",
    "<実行結果><br>3"
   ]
  },
  {
   "cell_type": "code",
   "execution_count": 19,
   "metadata": {},
   "outputs": [
    {
     "name": "stdout",
     "output_type": "stream",
     "text": [
      "3\n"
     ]
    }
   ],
   "source": [
    "numbers = (1,2,3,4,5)\n",
    "element = numbers[2]\n",
    "print(element)"
   ]
  },
  {
   "cell_type": "markdown",
   "metadata": {},
   "source": [
    "### 問題19\n",
    "タプル numbers = (1, 2, 3, 4, 5) の要素の合計を計算してください。\n",
    "\n",
    "<実行結果><br>15"
   ]
  },
  {
   "cell_type": "code",
   "execution_count": 20,
   "metadata": {},
   "outputs": [
    {
     "name": "stdout",
     "output_type": "stream",
     "text": [
      "15\n"
     ]
    }
   ],
   "source": [
    "numbers = (1,2,3,4,5)\n",
    "result = sum(numbers)\n",
    "print(result)"
   ]
  },
  {
   "cell_type": "markdown",
   "metadata": {},
   "source": [
    "### 問題20\n",
    "タプル numbers = (1, 2, 3, 4, 5) の最大値と最小値を見つけてください。\n",
    "\n",
    "<実行結果><br>print(f\"最大値: {max_value}, 最小値: {min_value}\")とした場合<br>最大値: 5, 最小値: 1"
   ]
  },
  {
   "cell_type": "code",
   "execution_count": 21,
   "metadata": {},
   "outputs": [
    {
     "name": "stdout",
     "output_type": "stream",
     "text": [
      "最大値: 5,最小値:1\n"
     ]
    }
   ],
   "source": [
    "numbers = (1,2,3,4,5)\n",
    "max_value = max(numbers)\n",
    "min_value = min(numbers)\n",
    "print(f\"最大値: {max_value},最小値:{min_value}\")"
   ]
  },
  {
   "cell_type": "markdown",
   "metadata": {},
   "source": [
    "### 問題21\n",
    "タプル numbers = (1, 2, 2, 3, 4, 4, 5) から重複を削除してください。\n",
    "\n",
    "<実行結果><br>(1, 2, 3, 4, 5)"
   ]
  },
  {
   "cell_type": "code",
   "execution_count": 22,
   "metadata": {},
   "outputs": [
    {
     "name": "stdout",
     "output_type": "stream",
     "text": [
      "(1, 2, 3, 4, 5)\n"
     ]
    }
   ],
   "source": [
    "numbers = (1,2,2,3,4,4,5)\n",
    "unique_numbers = tuple(set(numbers))\n",
    "print(unique_numbers)"
   ]
  },
  {
   "cell_type": "markdown",
   "metadata": {},
   "source": [
    "### 問題22\n",
    "辞書 person = {'name': 'John', 'age': 30, 'city': 'New York'} からJohnの年齢を取得してください。\n",
    "\n",
    "<実行結果><br>30\n"
   ]
  },
  {
   "cell_type": "code",
   "execution_count": 23,
   "metadata": {},
   "outputs": [
    {
     "name": "stdout",
     "output_type": "stream",
     "text": [
      "30\n"
     ]
    }
   ],
   "source": [
    "person = {'name': 'John', 'age':30, 'city':'New York'}\n",
    "val = person['age']\n",
    "print(val)"
   ]
  },
  {
   "cell_type": "markdown",
   "metadata": {},
   "source": [
    "### 問題23\n",
    "辞書 person = {'name': 'John', 'age': 30, 'city': 'New York'} に 'job': 'Engineer' を追加してください。\n",
    "\n",
    "<実行結果><br>{'name': 'John', 'age': 30, 'city': 'New York', 'job': 'Engineer'}\n"
   ]
  },
  {
   "cell_type": "code",
   "execution_count": 24,
   "metadata": {},
   "outputs": [
    {
     "name": "stdout",
     "output_type": "stream",
     "text": [
      "{'name': 'John', 'age': 30, 'city': 'New York', 'job': 'Engineer'}\n"
     ]
    }
   ],
   "source": [
    "person = {'name': 'John', 'age':30, 'city':'New York'}\n",
    "# person.update(job ='Engineer')\n",
    "person['job'] = 'Engineer'\n",
    "print(person)\n",
    "\n"
   ]
  },
  {
   "cell_type": "markdown",
   "metadata": {},
   "source": [
    "### 問題24\n",
    "辞書 person = {'name': 'John', 'age': 30, 'city': 'New York'} からcityキーを削除してください。\n",
    "\n",
    "<実行結果><br>{'name': 'John', 'age': 30}\n"
   ]
  },
  {
   "cell_type": "code",
   "execution_count": 25,
   "metadata": {},
   "outputs": [
    {
     "name": "stdout",
     "output_type": "stream",
     "text": [
      "{'name': 'John', 'age': 30}\n"
     ]
    }
   ],
   "source": [
    "person = {'name': 'John', 'age':30, 'city':'New York'}\n",
    "# person.pop('city')\n",
    "del person['city']\n",
    "print(person)"
   ]
  },
  {
   "cell_type": "markdown",
   "metadata": {},
   "source": [
    "### 問題25\n",
    "辞書 person = {'name': 'John', 'age': 30, 'city': 'New York'} のすべてのキーをリストとして取得してください。\n",
    "\n",
    "<実行結果><br>['name', 'age', 'city']"
   ]
  },
  {
   "cell_type": "code",
   "execution_count": 26,
   "metadata": {},
   "outputs": [
    {
     "name": "stdout",
     "output_type": "stream",
     "text": [
      "['name', 'age', 'city']\n"
     ]
    }
   ],
   "source": [
    "person = {'name': 'John', 'age':30, 'city':'New York'}\n",
    "keys_list = list(person.keys())\n",
    "print(keys_list)"
   ]
  },
  {
   "cell_type": "markdown",
   "metadata": {},
   "source": [
    "### 問題26\n",
    "辞書 person = {'name': 'John', 'age': 30, 'city': 'New York'} のすべての値を取得してください。\n",
    "\n",
    "<実行結果><br>['John', 30, 'New York']"
   ]
  },
  {
   "cell_type": "code",
   "execution_count": 27,
   "metadata": {},
   "outputs": [
    {
     "name": "stdout",
     "output_type": "stream",
     "text": [
      "['John', 30, 'New York']\n"
     ]
    }
   ],
   "source": [
    "person = {'name': 'John', 'age':30, 'city':'New York'}\n",
    "person_value = list(person.values())\n",
    "print(person_value)"
   ]
  },
  {
   "cell_type": "markdown",
   "metadata": {},
   "source": [
    "### 問題27\n",
    "2つの辞書 dict1 = {'a': 1, 'b': 2} と dict2 = {'c': 3, 'd': 4} を結合してください。\n",
    "\n",
    "<実行結果><br>{'a': 1, 'b': 2, 'c': 3, 'd': 4}\n"
   ]
  },
  {
   "cell_type": "code",
   "execution_count": 28,
   "metadata": {},
   "outputs": [
    {
     "name": "stdout",
     "output_type": "stream",
     "text": [
      "{'a': 1, 'b': 2, 'c': 3, 'd': 4}\n"
     ]
    }
   ],
   "source": [
    "dict1 = {'a':1, 'b':2}\n",
    "dict2 = {'c':3, 'd':4}\n",
    "# dict3 = dict(**dict1, **dict2)\n",
    "merged_dict = {**dict1, **dict2}\n",
    "\n",
    "print(merged_dict)\n"
   ]
  },
  {
   "cell_type": "markdown",
   "metadata": {},
   "source": [
    "### 問題28\n",
    "辞書 grades = {'math': 85, 'science': 92, 'history': 78} の値の平均を計算してください。\n",
    "\n",
    "<実行結果><br>85.0"
   ]
  },
  {
   "cell_type": "code",
   "execution_count": 29,
   "metadata": {},
   "outputs": [
    {
     "name": "stdout",
     "output_type": "stream",
     "text": [
      "85.0\n"
     ]
    }
   ],
   "source": [
    "grades ={'math':85, 'science':92, 'history':78}\n",
    "average = sum(grades.values()) / len(grades)\n",
    "print(average)"
   ]
  },
  {
   "cell_type": "markdown",
   "metadata": {},
   "source": [
    "### 問題29\n",
    "辞書 person = {'name': 'John', 'age': 30, 'city': 'New York'} に 'country' キーが存在するかチェックしてください。\n",
    "\n",
    "<実行結果><br>False"
   ]
  },
  {
   "cell_type": "code",
   "execution_count": 30,
   "metadata": {},
   "outputs": [
    {
     "name": "stdout",
     "output_type": "stream",
     "text": [
      "False\n"
     ]
    }
   ],
   "source": [
    "person = {'name': 'John', 'age':30, 'city':'New York'}\n",
    "# print('country' in person)\n",
    "key_exists = 'country' in person\n",
    "print(key_exists)"
   ]
  },
  {
   "cell_type": "markdown",
   "metadata": {},
   "source": [
    "### 問題30\n",
    "辞書 person = {'name': 'John', 'age': 30, 'city': 'New York'} のキーと値のペアを表示してください。\n",
    "\n",
    "<実行結果><br>name: John\n",
    "age: 30\n",
    "city: New York"
   ]
  },
  {
   "cell_type": "code",
   "execution_count": 31,
   "metadata": {},
   "outputs": [
    {
     "name": "stdout",
     "output_type": "stream",
     "text": [
      "name:John age:30 city:New York "
     ]
    }
   ],
   "source": [
    "person = {'name': 'John', 'age':30, 'city':'New York'}\n",
    "# print(person.items())\n",
    "for key, value in person.items():\n",
    "    print(f\"{key}:{value}\", end=\" \")"
   ]
  },
  {
   "cell_type": "markdown",
   "metadata": {},
   "source": [
    "### 問題31\n",
    "辞書 numbers = {'one': 1, 'two': 2, 'three': 3} の値を2倍にしてください\n",
    "\n",
    "<実行結果><br>{'one': 2, 'two': 4, 'three': 6}"
   ]
  },
  {
   "cell_type": "code",
   "execution_count": 32,
   "metadata": {},
   "outputs": [
    {
     "name": "stdout",
     "output_type": "stream",
     "text": [
      "{'one': 2, 'two': 4, 'three': 6}\n"
     ]
    }
   ],
   "source": [
    "numbers = {'one':1, 'two':2, 'three':3}\n",
    "# double_dict = {key: value * 2 for key, value in numbers.items()}\n",
    "# print(double_dict)\n",
    "\n",
    "double_dict ={}\n",
    "\n",
    "for key, value in numbers.items():\n",
    "    double_dict[key] = value * 2\n",
    "    \n",
    "print(double_dict)"
   ]
  },
  {
   "cell_type": "markdown",
   "metadata": {},
   "source": [
    "### 問題32\n",
    "辞書 person = {'name': 'John', 'age': 30, 'city': 'New York'} から 'age' キーの値を取得し、キーが存在しない場合はデフォルト値として0を返してください。\n",
    "\n",
    "<実行結果><br>30"
   ]
  },
  {
   "cell_type": "code",
   "execution_count": 33,
   "metadata": {},
   "outputs": [
    {
     "name": "stdout",
     "output_type": "stream",
     "text": [
      "30\n"
     ]
    }
   ],
   "source": [
    "person = {'name': 'John', 'age':30, 'city':'New York'}\n",
    "# default = person.get('age')\n",
    "age = person.get('age',0)\n",
    "print(age)"
   ]
  },
  {
   "cell_type": "markdown",
   "metadata": {},
   "source": [
    "### 問題33\n",
    "\n",
    "辞書 numbers = {'one': 1, 'two': 2, 'three': 3} のキーと値を入れ替えた新しい辞書を作成してください。\n",
    "\n",
    "<実行結果><br>{1: 'one', 2: 'two', 3: 'three'}"
   ]
  },
  {
   "cell_type": "code",
   "execution_count": 34,
   "metadata": {},
   "outputs": [
    {
     "name": "stdout",
     "output_type": "stream",
     "text": [
      "{1: 'one', 2: 'two', 3: 'three'}\n"
     ]
    }
   ],
   "source": [
    "numbers = {'one':1, 'two':2, 'three':3}\n",
    "numbers_swap = {value: key for key, value in numbers.items()}\n",
    "print(numbers_swap)"
   ]
  },
  {
   "cell_type": "markdown",
   "metadata": {},
   "source": [
    "### 問題34\n",
    "辞書 grades = {'Alice': 85, 'Bob': 92, 'Charlie': 78, 'David': 95} から最高得点の生徒の名前を取得してください。\n",
    "\n",
    "<実行結果><br>David"
   ]
  },
  {
   "cell_type": "code",
   "execution_count": 35,
   "metadata": {},
   "outputs": [
    {
     "name": "stdout",
     "output_type": "stream",
     "text": [
      "95\n"
     ]
    }
   ],
   "source": [
    "grades = {'Alice':85, 'Bob':92, 'Charlie':78, 'David':95}\n",
    "# print(max(grades.values()))\n",
    "print(max(grades.values()))"
   ]
  },
  {
   "cell_type": "markdown",
   "metadata": {},
   "source": [
    "### 問題35\n",
    "1から10までの数字を出力するfor文を書いてください。\n",
    "\n",
    "<実行結果><br>1\n",
    "2\n",
    "3\n",
    "4\n",
    "5\n",
    "6\n",
    "7\n",
    "8\n",
    "9\n",
    "10"
   ]
  },
  {
   "cell_type": "code",
   "execution_count": 36,
   "metadata": {},
   "outputs": [
    {
     "name": "stdout",
     "output_type": "stream",
     "text": [
      "1 2 3 4 5 6 7 8 9 10 "
     ]
    }
   ],
   "source": [
    "# numbers = [num + 1 for num in range(0,10)]\n",
    "# print(numbers)\n",
    "\n",
    "for number in range(1,11):\n",
    "    print(number, end=' ')"
   ]
  },
  {
   "cell_type": "markdown",
   "metadata": {},
   "source": [
    "### 問題36\n",
    "リスト fruits = ['apple', 'banana', 'cherry'] の各要素を出力するfor文を書いてください。\n",
    "\n",
    "<実行結果><br>apple\n",
    "banana\n",
    "cherry"
   ]
  },
  {
   "cell_type": "code",
   "execution_count": 37,
   "metadata": {},
   "outputs": [
    {
     "name": "stdout",
     "output_type": "stream",
     "text": [
      "apple banana cherry "
     ]
    }
   ],
   "source": [
    "fruits = ['apple', 'banana','cherry']\n",
    "# element = [num for num in fruits ]\n",
    "# print(element)\n",
    "\n",
    "for fruit in fruits:\n",
    "    print(fruit, end=' ')"
   ]
  },
  {
   "cell_type": "markdown",
   "metadata": {},
   "source": [
    "### 問題37\n",
    "1から10までの偶数のみを出力するfor文を書いてください。\n",
    "\n",
    "<実行結果><br>2\n",
    "4\n",
    "6\n",
    "8\n",
    "10"
   ]
  },
  {
   "cell_type": "code",
   "execution_count": 38,
   "metadata": {},
   "outputs": [
    {
     "name": "stdout",
     "output_type": "stream",
     "text": [
      "2 4 6 8 10 "
     ]
    }
   ],
   "source": [
    "my_list = [1, 2, 3, 4, 5, 6, 7, 8, 9, 10]\n",
    "# even_my_list = [num for num in my_list if num % 2 ==0]\n",
    "# print(even_my_list)\n",
    "\n",
    "for doubled_list in my_list:\n",
    "    if doubled_list % 2 == 0:\n",
    "        print(doubled_list, end = ' ')\n",
    "    "
   ]
  },
  {
   "cell_type": "markdown",
   "metadata": {},
   "source": [
    "### 問題38\n",
    "1から10までの数字の合計を計算するfor文を書いてください\n",
    "\n",
    "<実行結果><br>55"
   ]
  },
  {
   "cell_type": "code",
   "execution_count": 39,
   "metadata": {},
   "outputs": [
    {
     "name": "stdout",
     "output_type": "stream",
     "text": [
      "55\n"
     ]
    }
   ],
   "source": [
    "# my_list = [1, 2, 3, 4, 5, 6, 7, 8, 9, 10]\n",
    "# total = 0\n",
    "# for num in my_list:\n",
    "#     total += num\n",
    "# print(total)\n",
    "\n",
    "sum_number = sum([num for num in range(1,11)]) \n",
    "print(sum_number)"
   ]
  },
  {
   "cell_type": "markdown",
   "metadata": {},
   "source": [
    "### 問題39\n",
    "リスト numbers = [1, 2, 3, 4, 5] の各要素を2倍にして新しいリストを作成するfor文を書いてください。\n",
    "\n",
    "<実行結果><br>[2, 4, 6, 8, 10]"
   ]
  },
  {
   "cell_type": "code",
   "execution_count": 40,
   "metadata": {},
   "outputs": [
    {
     "name": "stdout",
     "output_type": "stream",
     "text": [
      "[2, 4, 6, 8, 10]\n"
     ]
    }
   ],
   "source": [
    "numbers = [1, 2, 3, 4, 5]\n",
    "double_numbers = [num*2 for num in numbers ]\n",
    "print(double_numbers )"
   ]
  },
  {
   "cell_type": "markdown",
   "metadata": {},
   "source": [
    "### 問題40\n",
    "2つのリスト list1 = [1, 2, 3] と list2 = ['a', 'b', 'c'] の要素を組み合わせて出力するfor文を書いてください。\n",
    "\n",
    "<実行結果><br>print(f\"{num}: {letter}\")とした場合<br>1: a\n",
    "2: b\n",
    "3: c"
   ]
  },
  {
   "cell_type": "code",
   "execution_count": 41,
   "metadata": {},
   "outputs": [
    {
     "name": "stdout",
     "output_type": "stream",
     "text": [
      "1: a 2: b 3: c "
     ]
    }
   ],
   "source": [
    "list1 =[1,2,3]\n",
    "list2 = ['a','b','c']\n",
    "\n",
    "for num, letter in zip(list1, list2):\n",
    "    print(f\"{num}: {letter}\", end =\" \")\n"
   ]
  },
  {
   "cell_type": "markdown",
   "metadata": {},
   "source": [
    "### 問題41\n",
    "リスト numbers = [1, 2, 3, 4, 5] の要素のうち、3より大きい数のみを出力するfor文を書いてください。\n",
    "\n",
    "<実行結果><br>4\n",
    "5"
   ]
  },
  {
   "cell_type": "code",
   "execution_count": 42,
   "metadata": {},
   "outputs": [
    {
     "name": "stdout",
     "output_type": "stream",
     "text": [
      "[4, 5]\n",
      "4 5 "
     ]
    }
   ],
   "source": [
    "numbers = [1,2,3,4,5]\n",
    "new_numbers = [num for num in numbers if num > 3]\n",
    "print(new_numbers)\n",
    "\n",
    "for num in numbers:\n",
    "    if num > 3:\n",
    "        print(num, end= \" \")"
   ]
  },
  {
   "cell_type": "markdown",
   "metadata": {},
   "source": [
    "### 問題42\n",
    "2次元リスト matrix = [[1, 2, 3], [4, 5, 6], [7, 8, 9]] の各要素を出力するfor文を書いてください。\n",
    "\n",
    "<実行結果><br>\n",
    "1 2 3 <br>\n",
    "4 5 6 <br>\n",
    "7 8 9 <br>"
   ]
  },
  {
   "cell_type": "code",
   "execution_count": 43,
   "metadata": {},
   "outputs": [
    {
     "name": "stdout",
     "output_type": "stream",
     "text": [
      "1 2 3 \n",
      "4 5 6 \n",
      "7 8 9 \n"
     ]
    }
   ],
   "source": [
    "matrix =[[1,2,3],[4,5,6],[7,8,9]]\n",
    "for row in matrix:\n",
    "    for element in row:\n",
    "        print(element, end= \" \")\n",
    "    print()"
   ]
  },
  {
   "cell_type": "markdown",
   "metadata": {},
   "source": [
    "### 問題43\n",
    "1から20までの数字のうち、3の倍数のみを出力するfor文を書いてください。\n",
    "\n",
    "<実行結果><br>3\n",
    "6\n",
    "9\n",
    "12\n",
    "15\n",
    "18"
   ]
  },
  {
   "cell_type": "code",
   "execution_count": 44,
   "metadata": {},
   "outputs": [
    {
     "name": "stdout",
     "output_type": "stream",
     "text": [
      "3 6 9 12 15 18 "
     ]
    }
   ],
   "source": [
    "# third_numbers = [num for num in range(1,21) if num % 3 == 0]\n",
    "# print(third_numbers)\n",
    "\n",
    "for num in range(1,21):\n",
    "    if num % 3 == 0:\n",
    "        print(num, end = \" \")"
   ]
  },
  {
   "cell_type": "markdown",
   "metadata": {},
   "source": [
    "### 問題44\n",
    "リスト words = ['hello', 'world', 'python'] の各単語の長さを出力するfor文を書いてください。\n",
    "\n",
    "<実行結果><br>hello: 5文字\n",
    "world: 5文字\n",
    "python: 6文字"
   ]
  },
  {
   "cell_type": "code",
   "execution_count": 45,
   "metadata": {},
   "outputs": [
    {
     "name": "stdout",
     "output_type": "stream",
     "text": [
      "hello:5文字 world:5文字 python:6文字 "
     ]
    }
   ],
   "source": [
    "words = ['hello', 'world', 'python']\n",
    "\n",
    "for word in words:\n",
    "    print(f\"{word}:{len(word)}文字\", end=\" \")\n",
    "    \n"
   ]
  },
  {
   "cell_type": "markdown",
   "metadata": {},
   "source": [
    "### 問題45\n",
    "\n",
    "リスト numbers = [1, 2, 3, 4, 5] の要素を逆順に出力するfor文を書いてください。\n",
    "\n",
    "<実行結果><br>5\n",
    "4\n",
    "3\n",
    "2\n",
    "1"
   ]
  },
  {
   "cell_type": "code",
   "execution_count": 46,
   "metadata": {},
   "outputs": [
    {
     "name": "stdout",
     "output_type": "stream",
     "text": [
      "[5, 4, 3, 2, 1]\n"
     ]
    }
   ],
   "source": [
    "numbers = [1,2,3,4,5]\n",
    "numbers.reverse()\n",
    "print(numbers)"
   ]
  },
  {
   "cell_type": "markdown",
   "metadata": {},
   "source": [
    "### 問題46\n",
    "1から10までの数字を出力するwhile文を書いてください。\n",
    "\n",
    "<実行結果><br>1\n",
    "2\n",
    "3\n",
    "4\n",
    "5\n",
    "6\n",
    "7\n",
    "8\n",
    "9\n",
    "10"
   ]
  },
  {
   "cell_type": "code",
   "execution_count": 47,
   "metadata": {},
   "outputs": [
    {
     "name": "stdout",
     "output_type": "stream",
     "text": [
      "1 2 3 4 5 6 7 8 9 10 "
     ]
    }
   ],
   "source": [
    "number = 1\n",
    "while number <= 10:\n",
    "    print(number, end = \" \")\n",
    "    number +=1"
   ]
  },
  {
   "cell_type": "markdown",
   "metadata": {},
   "source": [
    "### 問題47\n",
    "\n",
    "ユーザーが \"quit\" と入力するまで、入力を受け付けて出力し続けるwhile文を書いてください。\n",
    "\n",
    "<実行結果><br>入力された値: 1\n",
    "入力された値: 1\n",
    "入力された値: 2"
   ]
  },
  {
   "cell_type": "code",
   "execution_count": 48,
   "metadata": {},
   "outputs": [
    {
     "name": "stdout",
     "output_type": "stream",
     "text": [
      "入力された値:1\n",
      "入力された値:1\n",
      "入力された値:\n"
     ]
    }
   ],
   "source": [
    "# text =\"quit\"\n",
    "# while text != \"quit\":\n",
    "#     text = input(\"入力された値:\")\n",
    "#     print(text,\"と入力されました。\")\n",
    "    \n",
    "# print(\"終了しました\")\n",
    "\n",
    "user_input= \" \"\n",
    "\n",
    "while user_input != \"quit\":\n",
    "    user_input = input(\"入力してください: \")\n",
    "    if user_input != \"quit\":\n",
    "        print(f\"入力された値:{user_input}\")"
   ]
  },
  {
   "cell_type": "markdown",
   "metadata": {},
   "source": [
    "### 問題48\n",
    "リスト numbers = [1, 2, 3, 4, 5] の要素を逆順に出力するwhile文を書いてください。\n",
    "\n",
    "<実行結果><br>5\n",
    "4\n",
    "3\n",
    "2\n",
    "1"
   ]
  },
  {
   "cell_type": "code",
   "execution_count": null,
   "metadata": {},
   "outputs": [
    {
     "name": "stdout",
     "output_type": "stream",
     "text": [
      "5 4 3 2 1 "
     ]
    }
   ],
   "source": [
    "numbers = [1,2,3,4,5]\n",
    "numbers.reverse()\n",
    "index = 0\n",
    "\n",
    "while index < len(numbers):\n",
    "    print(numbers[index], end= \" \")\n",
    "    index += 1\n"
   ]
  },
  {
   "cell_type": "markdown",
   "metadata": {},
   "source": [
    "### 問題49\n",
    "ユーザーにパスワードを入力させ、正しいパスワードが入力されるまで繰り返すwhile文を書いてください。\n",
    "パスワードは「secret123」\n",
    "\n",
    "<実行結果><br>（パスワードが違う場合）パスワードが間違っています。もう一度試してください。<br>\n",
    "（パスワードがあっていた場合）ログインに成功しました。"
   ]
  },
  {
   "cell_type": "code",
   "execution_count": null,
   "metadata": {},
   "outputs": [],
   "source": [
    "correct_password = \"secret123\"\n",
    "user_input = \" \"\n",
    "\n",
    "while user_input != correct_password:\n",
    "    user_input = input(\"パスワードを入力してください: \")\n",
    "    if user_input != correct_password:\n",
    "        print(\"パスワードが間違っています。もう一度試してください。\")\n",
    "    else:\n",
    "        print(\"ログインに成功しました。\")\n",
    "    "
   ]
  },
  {
   "cell_type": "markdown",
   "metadata": {},
   "source": [
    "### 問題50\n",
    "2つの数値（３と５）を受け取り、その和を返す関数を作成してください。\n",
    "\n",
    "<実行結果><br>8"
   ]
  },
  {
   "cell_type": "code",
   "execution_count": 2,
   "metadata": {},
   "outputs": [
    {
     "name": "stdout",
     "output_type": "stream",
     "text": [
      "8\n",
      "8\n"
     ]
    }
   ],
   "source": [
    "# def Sum(a, b):\n",
    "#     sum_number = a + b\n",
    "#     print(sum_number)\n",
    "    \n",
    "# Sum(3,5)\n",
    "\n",
    "def add_numbers(a, b):\n",
    "    return a + b\n",
    "\n",
    "result = add_numbers(3, 5)\n",
    "print(result)"
   ]
  },
  {
   "cell_type": "markdown",
   "metadata": {},
   "source": [
    "## 問題51\n",
    "リスト[1, 5, 3, 9, 2]を受け取り、その中の最大値を返す関数を作成してください。\n",
    "\n",
    "<実行結果><br>9"
   ]
  },
  {
   "cell_type": "code",
   "execution_count": 3,
   "metadata": {},
   "outputs": [
    {
     "name": "stdout",
     "output_type": "stream",
     "text": [
      "9\n"
     ]
    }
   ],
   "source": [
    "# list = [1,5,3,9,2]\n",
    "\n",
    "# def Max(lists):\n",
    "#     max_number = max(lists)\n",
    "#     print(max_number)\n",
    "    \n",
    "# Max(list)\n",
    "\n",
    "def find_max(numbers):\n",
    "    return max(numbers)\n",
    "\n",
    "numbers = [1,5,3,9,2]\n",
    "result = find_max(numbers)\n",
    "print(result)"
   ]
  },
  {
   "cell_type": "markdown",
   "metadata": {},
   "source": [
    "### 問題52\n",
    "2つの数値（9と2）を受け取り、その積を返す関数を作成してください。\n",
    "\n",
    "<実行結果><br>18"
   ]
  },
  {
   "cell_type": "code",
   "execution_count": 87,
   "metadata": {},
   "outputs": [
    {
     "name": "stdout",
     "output_type": "stream",
     "text": [
      "18\n"
     ]
    }
   ],
   "source": [
    "def Volume(a, b):\n",
    "    volume_number = a * b\n",
    "    print(volume_number)\n",
    "    \n",
    "Volume(9,2)"
   ]
  },
  {
   "cell_type": "markdown",
   "metadata": {},
   "source": [
    "### 問題53\n",
    "2つの数値を受け取り、その積を返す関数を作成してください。ただし、どちらの仮引数にもデフォルト値として「10」を設定してください。\n",
    "関数呼び出し時に実引数は入れないものとする。\n",
    "\n",
    "<実行結果><br>100"
   ]
  },
  {
   "cell_type": "code",
   "execution_count": 6,
   "metadata": {},
   "outputs": [
    {
     "name": "stdout",
     "output_type": "stream",
     "text": [
      "100\n",
      "100\n"
     ]
    }
   ],
   "source": [
    "def multiply_numbers(a=10, b=10):\n",
    "    return a * b\n",
    "\n",
    "result = multiply_numbers()\n",
    "print(result)\n",
    "\n",
    "def multiply_numbers(a=10, b=10):\n",
    "    result = a * b\n",
    "    print(result)\n",
    "    \n",
    "multiply_numbers()"
   ]
  },
  {
   "cell_type": "markdown",
   "metadata": {},
   "source": [
    "### 問題54\n",
    "可変長引数を受け取り、その引数（1, 2, 3, 4, 5）の平均値を返す関数を作成してください。\n",
    "\n",
    "<実行結果><br>3.0"
   ]
  },
  {
   "cell_type": "code",
   "execution_count": 8,
   "metadata": {},
   "outputs": [
    {
     "name": "stdout",
     "output_type": "stream",
     "text": [
      "3.0\n",
      "3.0\n"
     ]
    }
   ],
   "source": [
    "# def Average(*args):\n",
    "#     average_number = sum(args)/len(args)\n",
    "#     print(average_number)\n",
    "    \n",
    "# Average(1,2,3,4,5)\n",
    "\n",
    "def calculate_average(*args):\n",
    "    if len(args) == 0:\n",
    "        return 0  \n",
    "    return sum(args) / len(args)\n",
    "\n",
    "result = calculate_average(1, 2, 3, 4, 5)\n",
    "print(result)\n"
   ]
  },
  {
   "cell_type": "markdown",
   "metadata": {},
   "source": [
    "### 問題55\n",
    "数値のリスト（[1, 2, 3, 4, 5, 6, 7, 8, 9, 10]）を引数として受け取り、偶数の要素のみを含む新しいリストを返す関数 `get_even_numbers` を作成してください。\n",
    "\n",
    "<実行結果><br>[2, 4, 6, 8, 10]\n"
   ]
  },
  {
   "cell_type": "code",
   "execution_count": 10,
   "metadata": {},
   "outputs": [
    {
     "name": "stdout",
     "output_type": "stream",
     "text": [
      "[2, 4, 6, 8, 10]\n"
     ]
    }
   ],
   "source": [
    "def get_even_numbers(numbers):\n",
    "    return [num for num in numbers if num % 2 == 0]\n",
    "\n",
    "numbers = [1,2,3,4,5,6,7,8,9,10]\n",
    "result = get_even_numbers(numbers)\n",
    "print(result)\n",
    "    "
   ]
  },
  {
   "cell_type": "markdown",
   "metadata": {},
   "source": [
    "### 問題56\n",
    "文字列（racecar）を引数として受け取り、その文字列が回文（前から読んでも後ろから読んでも同じ）かどうかを判定する関数 is_palindrome を作成してください。戻り値は真偽値で返すようにしてください。\n",
    "\n",
    "また、テストとして文字列（hello world）も出力してください。\n",
    "\n",
    "<実行結果><br>（回文の場合）True （hello worldの場合）False"
   ]
  },
  {
   "cell_type": "code",
   "execution_count": 11,
   "metadata": {},
   "outputs": [
    {
     "name": "stdout",
     "output_type": "stream",
     "text": [
      "True\n",
      "False\n"
     ]
    }
   ],
   "source": [
    "def is_palindrome(s):\n",
    "    return s == s[::-1]\n",
    "\n",
    "\n",
    "print(is_palindrome(\"racecar\")) \n",
    "print(is_palindrome(\"hello world\")) \n"
   ]
  },
  {
   "cell_type": "markdown",
   "metadata": {},
   "source": [
    "### 問題57\n",
    "以下の文字列のリストを引数として受け取り、最も長い文字列を返す関数 find_longest_string を作成してください。同じ長さの文字列が複数ある場合は、最初に出現するものを返してください。\n",
    "\n",
    "[\"apple\", \"banana\", \"cherry\", \"date\", \"elderberry\"]\n",
    "\n",
    "\n",
    "<実行結果><br>elderberry"
   ]
  },
  {
   "cell_type": "code",
   "execution_count": 100,
   "metadata": {},
   "outputs": [
    {
     "name": "stdout",
     "output_type": "stream",
     "text": [
      "elderberry\n"
     ]
    }
   ],
   "source": [
    "def find_longest_string(strings):\n",
    "    longest = strings[0]  \n",
    "    for string in strings:\n",
    "        if len(string) > len(longest):\n",
    "            longest = string\n",
    "    return longest\n",
    "\n",
    "words = [\"apple\", \"banana\", \"cherry\", \"date\", \"elderberry\"]\n",
    "result = find_longest_string(words)\n",
    "print(result)\n"
   ]
  },
  {
   "cell_type": "markdown",
   "metadata": {},
   "source": [
    "### 問題58\n",
    "数値 n を引数として受け取り、1からnまでの数の合計を返す関数 sum_to_n を作成してください。ただし、3の倍数と5の倍数は合計に加えないでください。\n",
    "nは10とする。\n",
    "\n",
    "<実行結果><br>22"
   ]
  },
  {
   "cell_type": "code",
   "execution_count": 12,
   "metadata": {},
   "outputs": [
    {
     "name": "stdout",
     "output_type": "stream",
     "text": [
      "22\n"
     ]
    }
   ],
   "source": [
    "def sum_to_n(n):\n",
    "    return sum(num for num in range(1, n + 1) if num % 3 != 0 and num % 5 != 0)\n",
    "\n",
    "n = 10\n",
    "result = sum_to_n(n)\n",
    "print(result)"
   ]
  },
  {
   "cell_type": "markdown",
   "metadata": {},
   "source": [
    "### 問題59\n",
    "\n",
    "list1 = [1,2,3,4,5,6,7,8,9]、list2 = [1,2,3,4,5,6,7,8,9]を使い、九九の掛け算を出力してください。\n",
    "\n",
    "<実行結果><br>\n",
    "1 2 3 4 5 6 7 8 9 <br>\n",
    "2 4 6 8 10 12 14 16 18 <br>\n",
    "3 6 9 12 15 18 21 24 27 <br>\n",
    "4 8 12 16 20 24 28 32 36 <br>\n",
    "5 10 15 20 25 30 35 40 45 <br>\n",
    "6 12 18 24 30 36 42 48 54 <br>\n",
    "7 14 21 28 35 42 49 56 63 <br>\n",
    "8 16 24 32 40 48 56 64 72 <br>\n",
    "9 18 27 36 45 54 63 72 81 <br>"
   ]
  },
  {
   "cell_type": "code",
   "execution_count": 104,
   "metadata": {},
   "outputs": [
    {
     "name": "stdout",
     "output_type": "stream",
     "text": [
      "1\n",
      "2\n",
      "3\n",
      "4\n",
      "5\n",
      "6\n",
      "7\n",
      "8\n",
      "9\n",
      "2\n",
      "4\n",
      "6\n",
      "8\n",
      "10\n",
      "12\n",
      "14\n",
      "16\n",
      "18\n",
      "3\n",
      "6\n",
      "9\n",
      "12\n",
      "15\n",
      "18\n",
      "21\n",
      "24\n",
      "27\n",
      "4\n",
      "8\n",
      "12\n",
      "16\n",
      "20\n",
      "24\n",
      "28\n",
      "32\n",
      "36\n",
      "5\n",
      "10\n",
      "15\n",
      "20\n",
      "25\n",
      "30\n",
      "35\n",
      "40\n",
      "45\n",
      "6\n",
      "12\n",
      "18\n",
      "24\n",
      "30\n",
      "36\n",
      "42\n",
      "48\n",
      "54\n",
      "7\n",
      "14\n",
      "21\n",
      "28\n",
      "35\n",
      "42\n",
      "49\n",
      "56\n",
      "63\n",
      "8\n",
      "16\n",
      "24\n",
      "32\n",
      "40\n",
      "48\n",
      "56\n",
      "64\n",
      "72\n",
      "9\n",
      "18\n",
      "27\n",
      "36\n",
      "45\n",
      "54\n",
      "63\n",
      "72\n",
      "81\n"
     ]
    }
   ],
   "source": [
    "list1 =[1,2,3,4,5,6,7,8,9]\n",
    "list2 =[1,2,3,4,5,6,7,8,9]\n",
    "\n",
    "def multiplication_table():\n",
    "    for number in list1:\n",
    "        for numbers in list2:\n",
    "            print(f\"{number*numbers}\")\n",
    "            \n",
    "multiplication_table()\n"
   ]
  },
  {
   "cell_type": "markdown",
   "metadata": {},
   "source": [
    "### 問題60\n",
    "1から10までのランダムな整数を5つ生成し、リストとして返す関数 `generate_random_numbers` を作成してください。\n",
    "\n"
   ]
  },
  {
   "cell_type": "code",
   "execution_count": 13,
   "metadata": {},
   "outputs": [
    {
     "name": "stdout",
     "output_type": "stream",
     "text": [
      "[10, 4, 9, 6, 4]\n"
     ]
    }
   ],
   "source": [
    "import random\n",
    "def generate_random_numbers():\n",
    "    return [random.randint(1,10)for _ in range(5)]\n",
    "\n",
    "random_numbers = generate_random_numbers()\n",
    "print(random_numbers)\n"
   ]
  },
  {
   "cell_type": "markdown",
   "metadata": {},
   "source": [
    "### 問題61\n",
    "現在の日付から7日後の日付を \"YYYY/MM/DD\" 形式で返す関数 get_future_date を作成してください。\n",
    "\n"
   ]
  },
  {
   "cell_type": "code",
   "execution_count": 14,
   "metadata": {},
   "outputs": [
    {
     "name": "stdout",
     "output_type": "stream",
     "text": [
      "2024/09/17\n"
     ]
    }
   ],
   "source": [
    "from datetime import datetime, timedelta\n",
    "\n",
    "def get_future_date():\n",
    "    today = datetime.today()\n",
    "    future_date = today + timedelta(days=7)\n",
    "    return future_date.strftime(\"%Y/%m/%d\")\n",
    "\n",
    "# 関数を呼び出して結果を表示\n",
    "print(get_future_date())\n"
   ]
  },
  {
   "cell_type": "markdown",
   "metadata": {},
   "source": [
    "### 問題62\n",
    "半径を引数として受け取り、円の面積を小数点以下2桁（XX.XX）まで返す関数 calculate_circle_area を作成してください。\n",
    "\n",
    "小数点以下2桁を出す場合、第三位の小数点は切り上げ、切り下げされても良しとする。\n",
    "\n",
    "<実行結果><br>（引数に11を入れた場合）380.13"
   ]
  },
  {
   "cell_type": "code",
   "execution_count": 15,
   "metadata": {},
   "outputs": [
    {
     "name": "stdout",
     "output_type": "stream",
     "text": [
      "314.16\n"
     ]
    }
   ],
   "source": [
    "import math\n",
    "def circle_area(radius: float):\n",
    "    area = math.pi * radius **2\n",
    "    return round(area, 2)\n",
    "\n",
    "print(circle_area(10))"
   ]
  },
  {
   "cell_type": "markdown",
   "metadata": {},
   "source": [
    "### 問題63\n",
    "ユーザーに2つの数字を入力してもらい、その商（割り算）を計算する関数 `divide_numbers` を作成してください。ゼロ除算エラーと数値でない入力を適切に処理（エラーハンドリング）してください。\n",
    "\n",
    "<実行結果><br>（数字以外を入力した場合）有効な数字を入力してください。<br>（ゼロで割った場合）ゼロで割ることはできません。<br>（一つ目に４、二つ目に2を入力した場合）2.0"
   ]
  },
  {
   "cell_type": "code",
   "execution_count": null,
   "metadata": {},
   "outputs": [],
   "source": [
    "def divide_numbers():\n",
    "    try:\n",
    "        num1 = float(input(\"1つ目の数字を入力してください: \"))\n",
    "        num2 = float(input(\"2つ目の数字を入力してください: \"))\n",
    "        \n",
    "        result = num1 / num2\n",
    "        print(f\"結果: {result}\")\n",
    "    \n",
    "    except ValueError:\n",
    "        print(\"有効な数字を入力してください。\")\n",
    "    \n",
    "    except ZeroDivisionError:\n",
    "        print(\"ゼロで割ることはできません。\")\n",
    "\n",
    "# 関数を実行\n",
    "divide_numbers()\n"
   ]
  },
  {
   "cell_type": "markdown",
   "metadata": {},
   "source": [
    "### 問題64\n",
    "リストとインデックスを引数として受け取り、指定されたインデックスの要素を返す関数 get_element を作成してください。インデックスが範囲外の場合やリストが空の場合のエラーを適切に処理してください。\n",
    "\n",
    "完成後以下のテストを行なってください。<br>\n",
    "print(get_element([1, 2, 3], 1))  # 2<br>\n",
    "print(get_element([1, 2, 3], 5))  # エラー: インデックス 5 は範囲外です。<br>\n",
    "print(get_element([], 0))  # エラー: インデックス 0 は範囲外です。   \n",
    "\n",
    "<実行結果><br>\n",
    "2<br>\n",
    "エラー: インデックス 5 は範囲外です。<br>\n",
    "エラー: インデックス 0 は範囲外です。<br>"
   ]
  },
  {
   "cell_type": "code",
   "execution_count": null,
   "metadata": {},
   "outputs": [],
   "source": [
    "def get_element(lst, index):\n",
    "    try:\n",
    "        return lst[index]\n",
    "    except IndexError:\n",
    "        print(f\"エラー: インデックス {index} は範囲外です。\")\n",
    "    except Exception as e:\n",
    "        print(f\"予期しないエラー: {e}\")\n",
    "\n",
    "result = get_element([1, 2, 3], 1)  \n",
    "if result is not None:\n",
    "    print(result)\n",
    "\n",
    "result = get_element([1, 2, 3], 5)  \n",
    "if result is not None:\n",
    "    print(result)\n",
    "\n",
    "result = get_element([], 0)  \n",
    "if result is not None:\n",
    "    print(result)\n",
    "\n"
   ]
  },
  {
   "cell_type": "markdown",
   "metadata": {},
   "source": [
    "### 問題65\n",
    "次の要件を満たすRectangleクラスを作成してください。\n",
    "\n",
    "Rectangleクラスにはwidth（幅）とheight（高さ）という2つの属性があります。\n",
    "コンストラクタ（__init__メソッド）を使って、widthとheightを初期化します。\n",
    "Rectangleクラスには、area()というメソッドがあります。このメソッドは長方形の面積（width * height）を計算して返します。\n",
    "\n",
    "クラスの定義後、areaメソッドを実行して正しく動作しているか確認してください。\n",
    "\n",
    "\n",
    "<実行結果><br>（インスタンス化するときに100と20を引数に入れた場合）2000"
   ]
  },
  {
   "cell_type": "code",
   "execution_count": 16,
   "metadata": {},
   "outputs": [
    {
     "name": "stdout",
     "output_type": "stream",
     "text": [
      "2000\n"
     ]
    }
   ],
   "source": [
    "# class Rectangle:\n",
    "#     def __init__(self, width, height):\n",
    "#         self.width = width\n",
    "#         self.height = height\n",
    "    \n",
    "#     def area(self):\n",
    "#         return self.width * self.height\n",
    "\n",
    "# rect = Rectangle(100, 20)\n",
    "# print(rect.area()) \n",
    "\n",
    "class Rectangle:\n",
    "    def __init__(self, width, height):\n",
    "        self.width = width\n",
    "        self.height = height\n",
    "        \n",
    "    def area(self):\n",
    "        return self.width * self.height\n",
    "\n",
    "rect = Rectangle(100, 20)\n",
    "print(rect.area())"
   ]
  },
  {
   "cell_type": "markdown",
   "metadata": {},
   "source": [
    "### 問題66\n",
    "次の要件を満たすCarクラスを作成してください。\n",
    "\n",
    "Carクラスにはmake（メーカー）とmodel（モデル）という2つの属性があります。\n",
    "コンストラクタ（__init__メソッド）を使って、makeとmodelを初期化します。\n",
    "Carクラスには、display_info()というメソッドがあります。このメソッドは「この車は[メーカー]の[モデル]です。」というメッセージを表示します。\n",
    "\n",
    "display_info()を実行し、正しく動作しているか確認してください。\n",
    "\n",
    "<実行結果><br>（例）この車はtoyotaのクラウンです。"
   ]
  },
  {
   "cell_type": "code",
   "execution_count": 23,
   "metadata": {},
   "outputs": [
    {
     "name": "stdout",
     "output_type": "stream",
     "text": [
      "この車はtoyotaのクラウンです\n"
     ]
    }
   ],
   "source": [
    "class Car:\n",
    "    def __init__(self, make, model):\n",
    "        self.make = make\n",
    "        self.model = model\n",
    "        \n",
    "    def display_info(self):\n",
    "        print(f\"この車は{self.make}の{self.model}です\")\n",
    "        \n",
    "result = Car(\"toyota\", \"クラウン\")\n",
    "result.display_info()"
   ]
  },
  {
   "cell_type": "markdown",
   "metadata": {},
   "source": [
    "### 問題67\n",
    "次の要件を満たすAnimalクラスとDogクラスを作成してください。\n",
    "\n",
    "Animalクラスにはname（名前）という属性があります。\n",
    "\n",
    "コンストラクタ（__init__メソッド）を使ってnameを初期化します。\n",
    "\n",
    "Animalクラスには、make_sound()というメソッドがあります。このメソッドは「[名前]は音を出します。」というメッセージを表示します。\n",
    "\n",
    "DogクラスはAnimalクラスを継承し、make_sound()メソッドをオーバーライドして「[名前]はワンワンと吠えます。」というメッセージを表示します。\n",
    "\n",
    "Dogから生成したインスタンスから、make_sound()を実行し、正しく動作しているか確認してください。\n",
    "\n",
    "<実行結果><br>（例）ぽちはワンワンと吠えます。\n"
   ]
  },
  {
   "cell_type": "code",
   "execution_count": 25,
   "metadata": {},
   "outputs": [],
   "source": [
    "class Animal:\n",
    "    def __init__(self, name):\n",
    "        self.name = name\n",
    "        \n",
    "    def make_sound(self):\n",
    "        print(f\"{self.name}は音を出します。\")"
   ]
  },
  {
   "cell_type": "code",
   "execution_count": 26,
   "metadata": {},
   "outputs": [
    {
     "name": "stdout",
     "output_type": "stream",
     "text": [
      "ぽちはワンワンと吠えます。\n"
     ]
    }
   ],
   "source": [
    "class Dog(Animal):\n",
    "    def make_sound(self):\n",
    "        print(f\"{self.name}はワンワンと吠えます。\")\n",
    "        \n",
    "dog = Dog(\"ぽち\")\n",
    "dog.make_sound()"
   ]
  }
 ],
 "metadata": {
  "kernelspec": {
   "display_name": ".venv",
   "language": "python",
   "name": "python3"
  },
  "language_info": {
   "codemirror_mode": {
    "name": "ipython",
    "version": 3
   },
   "file_extension": ".py",
   "mimetype": "text/x-python",
   "name": "python",
   "nbconvert_exporter": "python",
   "pygments_lexer": "ipython3",
   "version": "3.10.14"
  }
 },
 "nbformat": 4,
 "nbformat_minor": 2
}
